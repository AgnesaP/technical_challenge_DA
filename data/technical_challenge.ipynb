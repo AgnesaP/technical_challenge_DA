{
 "cells": [
  {
   "cell_type": "markdown",
   "id": "d3d9fc8d-9fef-4dc7-8016-fcbb026c84b9",
   "metadata": {},
   "source": [
    "### Importing the libraries "
   ]
  },
  {
   "cell_type": "code",
   "execution_count": 1,
   "id": "8b3ce807-0733-4c15-bec1-19e19d6eb1ed",
   "metadata": {},
   "outputs": [],
   "source": [
    "import pandas as pd\n",
    "import numpy as np\n",
    "\n",
    "%matplotlib inline\n",
    "import matplotlib.pyplot as plt\n",
    "import seaborn as sns\n",
    "sns.set(style='white', context='notebook', palette='deep')\n",
    "from sklearn.preprocessing import StandardScaler, MinMaxScaler, PolynomialFeatures\n",
    "from sklearn.pipeline import Pipeline\n",
    "from sklearn.ensemble import RandomForestClassifier\n",
    "from sklearn.naive_bayes import GaussianNB\n",
    "from sklearn import tree\n",
    "from sklearn.tree import DecisionTreeClassifier\n",
    "from sklearn.tree import plot_tree\n",
    "from sklearn.metrics import classification_report\n",
    "from sklearn.metrics import confusion_matrix\n",
    "from sklearn.metrics import plot_confusion_matrix\n",
    "from sklearn.metrics import accuracy_score\n",
    "from sklearn.metrics import f1_score\n",
    "from sklearn.neural_network import MLPRegressor\n",
    "from sklearn.metrics import r2_score\n",
    "import math\n",
    "from imblearn.over_sampling import SMOTE\n",
    "from sklearn.model_selection import train_test_split\n",
    "from sklearn.linear_model import LogisticRegression\n",
    "from sklearn.tree import DecisionTreeClassifier\n",
    "from imblearn.under_sampling import TomekLinks\n",
    "import warnings\n",
    "warnings.filterwarnings('ignore')\n",
    "warnings.simplefilter('ignore')\n",
    "from sklearn import preprocessing"
   ]
  },
  {
   "cell_type": "markdown",
   "id": "b09dfa6b-7ea0-44e0-83d1-243c795fb65e",
   "metadata": {},
   "source": [
    "### Reading the file"
   ]
  },
  {
   "cell_type": "code",
   "execution_count": 2,
   "id": "6319f696-ef52-474d-91d1-8d13da230205",
   "metadata": {},
   "outputs": [
    {
     "data": {
      "text/html": [
       "<div>\n",
       "<style scoped>\n",
       "    .dataframe tbody tr th:only-of-type {\n",
       "        vertical-align: middle;\n",
       "    }\n",
       "\n",
       "    .dataframe tbody tr th {\n",
       "        vertical-align: top;\n",
       "    }\n",
       "\n",
       "    .dataframe thead th {\n",
       "        text-align: right;\n",
       "    }\n",
       "</style>\n",
       "<table border=\"1\" class=\"dataframe\">\n",
       "  <thead>\n",
       "    <tr style=\"text-align: right;\">\n",
       "      <th></th>\n",
       "      <th>distance</th>\n",
       "      <th>consume</th>\n",
       "      <th>speed</th>\n",
       "      <th>temp_inside</th>\n",
       "      <th>temp_outside</th>\n",
       "      <th>specials</th>\n",
       "      <th>gas_type</th>\n",
       "      <th>AC</th>\n",
       "      <th>rain</th>\n",
       "      <th>sun</th>\n",
       "      <th>refill liters</th>\n",
       "      <th>refill gas</th>\n",
       "    </tr>\n",
       "  </thead>\n",
       "  <tbody>\n",
       "    <tr>\n",
       "      <th>0</th>\n",
       "      <td>28</td>\n",
       "      <td>5</td>\n",
       "      <td>26</td>\n",
       "      <td>21,5</td>\n",
       "      <td>12</td>\n",
       "      <td>NaN</td>\n",
       "      <td>E10</td>\n",
       "      <td>0</td>\n",
       "      <td>0</td>\n",
       "      <td>0</td>\n",
       "      <td>45</td>\n",
       "      <td>E10</td>\n",
       "    </tr>\n",
       "    <tr>\n",
       "      <th>1</th>\n",
       "      <td>12</td>\n",
       "      <td>4,2</td>\n",
       "      <td>30</td>\n",
       "      <td>21,5</td>\n",
       "      <td>13</td>\n",
       "      <td>NaN</td>\n",
       "      <td>E10</td>\n",
       "      <td>0</td>\n",
       "      <td>0</td>\n",
       "      <td>0</td>\n",
       "      <td>NaN</td>\n",
       "      <td>NaN</td>\n",
       "    </tr>\n",
       "    <tr>\n",
       "      <th>2</th>\n",
       "      <td>11,2</td>\n",
       "      <td>5,5</td>\n",
       "      <td>38</td>\n",
       "      <td>21,5</td>\n",
       "      <td>15</td>\n",
       "      <td>NaN</td>\n",
       "      <td>E10</td>\n",
       "      <td>0</td>\n",
       "      <td>0</td>\n",
       "      <td>0</td>\n",
       "      <td>NaN</td>\n",
       "      <td>NaN</td>\n",
       "    </tr>\n",
       "    <tr>\n",
       "      <th>3</th>\n",
       "      <td>12,9</td>\n",
       "      <td>3,9</td>\n",
       "      <td>36</td>\n",
       "      <td>21,5</td>\n",
       "      <td>14</td>\n",
       "      <td>NaN</td>\n",
       "      <td>E10</td>\n",
       "      <td>0</td>\n",
       "      <td>0</td>\n",
       "      <td>0</td>\n",
       "      <td>NaN</td>\n",
       "      <td>NaN</td>\n",
       "    </tr>\n",
       "    <tr>\n",
       "      <th>4</th>\n",
       "      <td>18,5</td>\n",
       "      <td>4,5</td>\n",
       "      <td>46</td>\n",
       "      <td>21,5</td>\n",
       "      <td>15</td>\n",
       "      <td>NaN</td>\n",
       "      <td>E10</td>\n",
       "      <td>0</td>\n",
       "      <td>0</td>\n",
       "      <td>0</td>\n",
       "      <td>NaN</td>\n",
       "      <td>NaN</td>\n",
       "    </tr>\n",
       "    <tr>\n",
       "      <th>...</th>\n",
       "      <td>...</td>\n",
       "      <td>...</td>\n",
       "      <td>...</td>\n",
       "      <td>...</td>\n",
       "      <td>...</td>\n",
       "      <td>...</td>\n",
       "      <td>...</td>\n",
       "      <td>...</td>\n",
       "      <td>...</td>\n",
       "      <td>...</td>\n",
       "      <td>...</td>\n",
       "      <td>...</td>\n",
       "    </tr>\n",
       "    <tr>\n",
       "      <th>383</th>\n",
       "      <td>16</td>\n",
       "      <td>3,7</td>\n",
       "      <td>39</td>\n",
       "      <td>24,5</td>\n",
       "      <td>18</td>\n",
       "      <td>NaN</td>\n",
       "      <td>SP98</td>\n",
       "      <td>0</td>\n",
       "      <td>0</td>\n",
       "      <td>0</td>\n",
       "      <td>NaN</td>\n",
       "      <td>NaN</td>\n",
       "    </tr>\n",
       "    <tr>\n",
       "      <th>384</th>\n",
       "      <td>16,1</td>\n",
       "      <td>4,3</td>\n",
       "      <td>38</td>\n",
       "      <td>25</td>\n",
       "      <td>31</td>\n",
       "      <td>AC</td>\n",
       "      <td>SP98</td>\n",
       "      <td>1</td>\n",
       "      <td>0</td>\n",
       "      <td>0</td>\n",
       "      <td>NaN</td>\n",
       "      <td>NaN</td>\n",
       "    </tr>\n",
       "    <tr>\n",
       "      <th>385</th>\n",
       "      <td>16</td>\n",
       "      <td>3,8</td>\n",
       "      <td>45</td>\n",
       "      <td>25</td>\n",
       "      <td>19</td>\n",
       "      <td>NaN</td>\n",
       "      <td>SP98</td>\n",
       "      <td>0</td>\n",
       "      <td>0</td>\n",
       "      <td>0</td>\n",
       "      <td>NaN</td>\n",
       "      <td>NaN</td>\n",
       "    </tr>\n",
       "    <tr>\n",
       "      <th>386</th>\n",
       "      <td>15,4</td>\n",
       "      <td>4,6</td>\n",
       "      <td>42</td>\n",
       "      <td>25</td>\n",
       "      <td>31</td>\n",
       "      <td>AC</td>\n",
       "      <td>SP98</td>\n",
       "      <td>1</td>\n",
       "      <td>0</td>\n",
       "      <td>0</td>\n",
       "      <td>NaN</td>\n",
       "      <td>NaN</td>\n",
       "    </tr>\n",
       "    <tr>\n",
       "      <th>387</th>\n",
       "      <td>14,7</td>\n",
       "      <td>5</td>\n",
       "      <td>25</td>\n",
       "      <td>25</td>\n",
       "      <td>30</td>\n",
       "      <td>AC</td>\n",
       "      <td>SP98</td>\n",
       "      <td>1</td>\n",
       "      <td>0</td>\n",
       "      <td>0</td>\n",
       "      <td>NaN</td>\n",
       "      <td>NaN</td>\n",
       "    </tr>\n",
       "  </tbody>\n",
       "</table>\n",
       "<p>388 rows × 12 columns</p>\n",
       "</div>"
      ],
      "text/plain": [
       "    distance consume  speed temp_inside  temp_outside specials gas_type  AC  \\\n",
       "0         28       5     26        21,5            12      NaN      E10   0   \n",
       "1         12     4,2     30        21,5            13      NaN      E10   0   \n",
       "2       11,2     5,5     38        21,5            15      NaN      E10   0   \n",
       "3       12,9     3,9     36        21,5            14      NaN      E10   0   \n",
       "4       18,5     4,5     46        21,5            15      NaN      E10   0   \n",
       "..       ...     ...    ...         ...           ...      ...      ...  ..   \n",
       "383       16     3,7     39        24,5            18      NaN     SP98   0   \n",
       "384     16,1     4,3     38          25            31       AC     SP98   1   \n",
       "385       16     3,8     45          25            19      NaN     SP98   0   \n",
       "386     15,4     4,6     42          25            31       AC     SP98   1   \n",
       "387     14,7       5     25          25            30       AC     SP98   1   \n",
       "\n",
       "     rain  sun refill liters refill gas  \n",
       "0       0    0            45        E10  \n",
       "1       0    0           NaN        NaN  \n",
       "2       0    0           NaN        NaN  \n",
       "3       0    0           NaN        NaN  \n",
       "4       0    0           NaN        NaN  \n",
       "..    ...  ...           ...        ...  \n",
       "383     0    0           NaN        NaN  \n",
       "384     0    0           NaN        NaN  \n",
       "385     0    0           NaN        NaN  \n",
       "386     0    0           NaN        NaN  \n",
       "387     0    0           NaN        NaN  \n",
       "\n",
       "[388 rows x 12 columns]"
      ]
     },
     "execution_count": 2,
     "metadata": {},
     "output_type": "execute_result"
    }
   ],
   "source": [
    "df = pd.read_csv(\"measurements.csv\")\n",
    "df"
   ]
  },
  {
   "cell_type": "markdown",
   "id": "ba2a6ff0-9d44-4784-b930-51a9ea92ece7",
   "metadata": {},
   "source": [
    "### Standardize header names"
   ]
  },
  {
   "cell_type": "code",
   "execution_count": 3,
   "id": "31872eb4-dd0f-48fb-bc25-8ec6f73bdb87",
   "metadata": {},
   "outputs": [
    {
     "data": {
      "text/html": [
       "<div>\n",
       "<style scoped>\n",
       "    .dataframe tbody tr th:only-of-type {\n",
       "        vertical-align: middle;\n",
       "    }\n",
       "\n",
       "    .dataframe tbody tr th {\n",
       "        vertical-align: top;\n",
       "    }\n",
       "\n",
       "    .dataframe thead th {\n",
       "        text-align: right;\n",
       "    }\n",
       "</style>\n",
       "<table border=\"1\" class=\"dataframe\">\n",
       "  <thead>\n",
       "    <tr style=\"text-align: right;\">\n",
       "      <th></th>\n",
       "      <th>distance</th>\n",
       "      <th>consume</th>\n",
       "      <th>speed</th>\n",
       "      <th>temp_inside</th>\n",
       "      <th>temp_outside</th>\n",
       "      <th>specials</th>\n",
       "      <th>gas_type</th>\n",
       "      <th>ac</th>\n",
       "      <th>rain</th>\n",
       "      <th>sun</th>\n",
       "      <th>refill_liters</th>\n",
       "      <th>refill_gas</th>\n",
       "    </tr>\n",
       "  </thead>\n",
       "  <tbody>\n",
       "    <tr>\n",
       "      <th>0</th>\n",
       "      <td>28</td>\n",
       "      <td>5</td>\n",
       "      <td>26</td>\n",
       "      <td>21,5</td>\n",
       "      <td>12</td>\n",
       "      <td>NaN</td>\n",
       "      <td>E10</td>\n",
       "      <td>0</td>\n",
       "      <td>0</td>\n",
       "      <td>0</td>\n",
       "      <td>45</td>\n",
       "      <td>E10</td>\n",
       "    </tr>\n",
       "    <tr>\n",
       "      <th>1</th>\n",
       "      <td>12</td>\n",
       "      <td>4,2</td>\n",
       "      <td>30</td>\n",
       "      <td>21,5</td>\n",
       "      <td>13</td>\n",
       "      <td>NaN</td>\n",
       "      <td>E10</td>\n",
       "      <td>0</td>\n",
       "      <td>0</td>\n",
       "      <td>0</td>\n",
       "      <td>NaN</td>\n",
       "      <td>NaN</td>\n",
       "    </tr>\n",
       "    <tr>\n",
       "      <th>2</th>\n",
       "      <td>11,2</td>\n",
       "      <td>5,5</td>\n",
       "      <td>38</td>\n",
       "      <td>21,5</td>\n",
       "      <td>15</td>\n",
       "      <td>NaN</td>\n",
       "      <td>E10</td>\n",
       "      <td>0</td>\n",
       "      <td>0</td>\n",
       "      <td>0</td>\n",
       "      <td>NaN</td>\n",
       "      <td>NaN</td>\n",
       "    </tr>\n",
       "    <tr>\n",
       "      <th>3</th>\n",
       "      <td>12,9</td>\n",
       "      <td>3,9</td>\n",
       "      <td>36</td>\n",
       "      <td>21,5</td>\n",
       "      <td>14</td>\n",
       "      <td>NaN</td>\n",
       "      <td>E10</td>\n",
       "      <td>0</td>\n",
       "      <td>0</td>\n",
       "      <td>0</td>\n",
       "      <td>NaN</td>\n",
       "      <td>NaN</td>\n",
       "    </tr>\n",
       "    <tr>\n",
       "      <th>4</th>\n",
       "      <td>18,5</td>\n",
       "      <td>4,5</td>\n",
       "      <td>46</td>\n",
       "      <td>21,5</td>\n",
       "      <td>15</td>\n",
       "      <td>NaN</td>\n",
       "      <td>E10</td>\n",
       "      <td>0</td>\n",
       "      <td>0</td>\n",
       "      <td>0</td>\n",
       "      <td>NaN</td>\n",
       "      <td>NaN</td>\n",
       "    </tr>\n",
       "    <tr>\n",
       "      <th>...</th>\n",
       "      <td>...</td>\n",
       "      <td>...</td>\n",
       "      <td>...</td>\n",
       "      <td>...</td>\n",
       "      <td>...</td>\n",
       "      <td>...</td>\n",
       "      <td>...</td>\n",
       "      <td>...</td>\n",
       "      <td>...</td>\n",
       "      <td>...</td>\n",
       "      <td>...</td>\n",
       "      <td>...</td>\n",
       "    </tr>\n",
       "    <tr>\n",
       "      <th>383</th>\n",
       "      <td>16</td>\n",
       "      <td>3,7</td>\n",
       "      <td>39</td>\n",
       "      <td>24,5</td>\n",
       "      <td>18</td>\n",
       "      <td>NaN</td>\n",
       "      <td>SP98</td>\n",
       "      <td>0</td>\n",
       "      <td>0</td>\n",
       "      <td>0</td>\n",
       "      <td>NaN</td>\n",
       "      <td>NaN</td>\n",
       "    </tr>\n",
       "    <tr>\n",
       "      <th>384</th>\n",
       "      <td>16,1</td>\n",
       "      <td>4,3</td>\n",
       "      <td>38</td>\n",
       "      <td>25</td>\n",
       "      <td>31</td>\n",
       "      <td>AC</td>\n",
       "      <td>SP98</td>\n",
       "      <td>1</td>\n",
       "      <td>0</td>\n",
       "      <td>0</td>\n",
       "      <td>NaN</td>\n",
       "      <td>NaN</td>\n",
       "    </tr>\n",
       "    <tr>\n",
       "      <th>385</th>\n",
       "      <td>16</td>\n",
       "      <td>3,8</td>\n",
       "      <td>45</td>\n",
       "      <td>25</td>\n",
       "      <td>19</td>\n",
       "      <td>NaN</td>\n",
       "      <td>SP98</td>\n",
       "      <td>0</td>\n",
       "      <td>0</td>\n",
       "      <td>0</td>\n",
       "      <td>NaN</td>\n",
       "      <td>NaN</td>\n",
       "    </tr>\n",
       "    <tr>\n",
       "      <th>386</th>\n",
       "      <td>15,4</td>\n",
       "      <td>4,6</td>\n",
       "      <td>42</td>\n",
       "      <td>25</td>\n",
       "      <td>31</td>\n",
       "      <td>AC</td>\n",
       "      <td>SP98</td>\n",
       "      <td>1</td>\n",
       "      <td>0</td>\n",
       "      <td>0</td>\n",
       "      <td>NaN</td>\n",
       "      <td>NaN</td>\n",
       "    </tr>\n",
       "    <tr>\n",
       "      <th>387</th>\n",
       "      <td>14,7</td>\n",
       "      <td>5</td>\n",
       "      <td>25</td>\n",
       "      <td>25</td>\n",
       "      <td>30</td>\n",
       "      <td>AC</td>\n",
       "      <td>SP98</td>\n",
       "      <td>1</td>\n",
       "      <td>0</td>\n",
       "      <td>0</td>\n",
       "      <td>NaN</td>\n",
       "      <td>NaN</td>\n",
       "    </tr>\n",
       "  </tbody>\n",
       "</table>\n",
       "<p>388 rows × 12 columns</p>\n",
       "</div>"
      ],
      "text/plain": [
       "    distance consume  speed temp_inside  temp_outside specials gas_type  ac  \\\n",
       "0         28       5     26        21,5            12      NaN      E10   0   \n",
       "1         12     4,2     30        21,5            13      NaN      E10   0   \n",
       "2       11,2     5,5     38        21,5            15      NaN      E10   0   \n",
       "3       12,9     3,9     36        21,5            14      NaN      E10   0   \n",
       "4       18,5     4,5     46        21,5            15      NaN      E10   0   \n",
       "..       ...     ...    ...         ...           ...      ...      ...  ..   \n",
       "383       16     3,7     39        24,5            18      NaN     SP98   0   \n",
       "384     16,1     4,3     38          25            31       AC     SP98   1   \n",
       "385       16     3,8     45          25            19      NaN     SP98   0   \n",
       "386     15,4     4,6     42          25            31       AC     SP98   1   \n",
       "387     14,7       5     25          25            30       AC     SP98   1   \n",
       "\n",
       "     rain  sun refill_liters refill_gas  \n",
       "0       0    0            45        E10  \n",
       "1       0    0           NaN        NaN  \n",
       "2       0    0           NaN        NaN  \n",
       "3       0    0           NaN        NaN  \n",
       "4       0    0           NaN        NaN  \n",
       "..    ...  ...           ...        ...  \n",
       "383     0    0           NaN        NaN  \n",
       "384     0    0           NaN        NaN  \n",
       "385     0    0           NaN        NaN  \n",
       "386     0    0           NaN        NaN  \n",
       "387     0    0           NaN        NaN  \n",
       "\n",
       "[388 rows x 12 columns]"
      ]
     },
     "execution_count": 3,
     "metadata": {},
     "output_type": "execute_result"
    }
   ],
   "source": [
    "#1. user lower case\n",
    "df.columns = df.columns.str.lower()\n",
    "\n",
    "#2.removing spaces and adding underscore\n",
    "df.columns = df.columns.map(lambda x: x.replace(\" \",\"_\"))\n",
    "df"
   ]
  },
  {
   "cell_type": "code",
   "execution_count": 4,
   "id": "896a28f4-9210-44d0-844e-0b75ae69e5e5",
   "metadata": {},
   "outputs": [
    {
     "name": "stdout",
     "output_type": "stream",
     "text": [
      "<class 'pandas.core.frame.DataFrame'>\n",
      "RangeIndex: 388 entries, 0 to 387\n",
      "Data columns (total 12 columns):\n",
      " #   Column         Non-Null Count  Dtype \n",
      "---  ------         --------------  ----- \n",
      " 0   distance       388 non-null    object\n",
      " 1   consume        388 non-null    object\n",
      " 2   speed          388 non-null    int64 \n",
      " 3   temp_inside    376 non-null    object\n",
      " 4   temp_outside   388 non-null    int64 \n",
      " 5   specials       93 non-null     object\n",
      " 6   gas_type       388 non-null    object\n",
      " 7   ac             388 non-null    int64 \n",
      " 8   rain           388 non-null    int64 \n",
      " 9   sun            388 non-null    int64 \n",
      " 10  refill_liters  13 non-null     object\n",
      " 11  refill_gas     13 non-null     object\n",
      "dtypes: int64(5), object(7)\n",
      "memory usage: 36.5+ KB\n"
     ]
    }
   ],
   "source": [
    "df.info()"
   ]
  },
  {
   "cell_type": "code",
   "execution_count": 5,
   "id": "8b538ed7-1d12-4ea6-96aa-26c33d8b1a08",
   "metadata": {},
   "outputs": [
    {
     "data": {
      "text/html": [
       "<div>\n",
       "<style scoped>\n",
       "    .dataframe tbody tr th:only-of-type {\n",
       "        vertical-align: middle;\n",
       "    }\n",
       "\n",
       "    .dataframe tbody tr th {\n",
       "        vertical-align: top;\n",
       "    }\n",
       "\n",
       "    .dataframe thead th {\n",
       "        text-align: right;\n",
       "    }\n",
       "</style>\n",
       "<table border=\"1\" class=\"dataframe\">\n",
       "  <thead>\n",
       "    <tr style=\"text-align: right;\">\n",
       "      <th></th>\n",
       "      <th>distance</th>\n",
       "      <th>consume</th>\n",
       "      <th>speed</th>\n",
       "      <th>temp_inside</th>\n",
       "      <th>temp_outside</th>\n",
       "      <th>specials</th>\n",
       "      <th>gas_type</th>\n",
       "      <th>ac</th>\n",
       "      <th>rain</th>\n",
       "      <th>sun</th>\n",
       "      <th>refill_liters</th>\n",
       "      <th>refill_gas</th>\n",
       "    </tr>\n",
       "  </thead>\n",
       "  <tbody>\n",
       "    <tr>\n",
       "      <th>0</th>\n",
       "      <td>28</td>\n",
       "      <td>5</td>\n",
       "      <td>26</td>\n",
       "      <td>21,5</td>\n",
       "      <td>12</td>\n",
       "      <td>NaN</td>\n",
       "      <td>E10</td>\n",
       "      <td>0</td>\n",
       "      <td>0</td>\n",
       "      <td>0</td>\n",
       "      <td>45</td>\n",
       "      <td>E10</td>\n",
       "    </tr>\n",
       "    <tr>\n",
       "      <th>1</th>\n",
       "      <td>12</td>\n",
       "      <td>4,2</td>\n",
       "      <td>30</td>\n",
       "      <td>21,5</td>\n",
       "      <td>13</td>\n",
       "      <td>NaN</td>\n",
       "      <td>E10</td>\n",
       "      <td>0</td>\n",
       "      <td>0</td>\n",
       "      <td>0</td>\n",
       "      <td>NaN</td>\n",
       "      <td>NaN</td>\n",
       "    </tr>\n",
       "    <tr>\n",
       "      <th>2</th>\n",
       "      <td>11,2</td>\n",
       "      <td>5,5</td>\n",
       "      <td>38</td>\n",
       "      <td>21,5</td>\n",
       "      <td>15</td>\n",
       "      <td>NaN</td>\n",
       "      <td>E10</td>\n",
       "      <td>0</td>\n",
       "      <td>0</td>\n",
       "      <td>0</td>\n",
       "      <td>NaN</td>\n",
       "      <td>NaN</td>\n",
       "    </tr>\n",
       "    <tr>\n",
       "      <th>3</th>\n",
       "      <td>12,9</td>\n",
       "      <td>3,9</td>\n",
       "      <td>36</td>\n",
       "      <td>21,5</td>\n",
       "      <td>14</td>\n",
       "      <td>NaN</td>\n",
       "      <td>E10</td>\n",
       "      <td>0</td>\n",
       "      <td>0</td>\n",
       "      <td>0</td>\n",
       "      <td>NaN</td>\n",
       "      <td>NaN</td>\n",
       "    </tr>\n",
       "    <tr>\n",
       "      <th>4</th>\n",
       "      <td>18,5</td>\n",
       "      <td>4,5</td>\n",
       "      <td>46</td>\n",
       "      <td>21,5</td>\n",
       "      <td>15</td>\n",
       "      <td>NaN</td>\n",
       "      <td>E10</td>\n",
       "      <td>0</td>\n",
       "      <td>0</td>\n",
       "      <td>0</td>\n",
       "      <td>NaN</td>\n",
       "      <td>NaN</td>\n",
       "    </tr>\n",
       "  </tbody>\n",
       "</table>\n",
       "</div>"
      ],
      "text/plain": [
       "  distance consume  speed temp_inside  temp_outside specials gas_type  ac  \\\n",
       "0       28       5     26        21,5            12      NaN      E10   0   \n",
       "1       12     4,2     30        21,5            13      NaN      E10   0   \n",
       "2     11,2     5,5     38        21,5            15      NaN      E10   0   \n",
       "3     12,9     3,9     36        21,5            14      NaN      E10   0   \n",
       "4     18,5     4,5     46        21,5            15      NaN      E10   0   \n",
       "\n",
       "   rain  sun refill_liters refill_gas  \n",
       "0     0    0            45        E10  \n",
       "1     0    0           NaN        NaN  \n",
       "2     0    0           NaN        NaN  \n",
       "3     0    0           NaN        NaN  \n",
       "4     0    0           NaN        NaN  "
      ]
     },
     "execution_count": 5,
     "metadata": {},
     "output_type": "execute_result"
    }
   ],
   "source": [
    "df.head()"
   ]
  },
  {
   "cell_type": "markdown",
   "id": "6412d7cc-7c5a-4e94-9082-99eff5cfcb5e",
   "metadata": {},
   "source": [
    "### Dropping duplicates"
   ]
  },
  {
   "cell_type": "code",
   "execution_count": 6,
   "id": "a5453cbb-9a54-4f4e-9078-03823789ccde",
   "metadata": {},
   "outputs": [],
   "source": [
    "df.drop_duplicates(subset=None, keep='first', inplace=True, ignore_index=False)\n"
   ]
  },
  {
   "cell_type": "code",
   "execution_count": 7,
   "id": "6603c773-7902-402b-8c93-d9fe14b1ac07",
   "metadata": {},
   "outputs": [
    {
     "data": {
      "text/plain": [
       "(388, 12)"
      ]
     },
     "execution_count": 7,
     "metadata": {},
     "output_type": "execute_result"
    }
   ],
   "source": [
    "df.shape"
   ]
  },
  {
   "cell_type": "markdown",
   "id": "bffc5075-9c84-417b-b18d-f1351f2b6fc7",
   "metadata": {},
   "source": [
    "### Checking for the null values"
   ]
  },
  {
   "cell_type": "code",
   "execution_count": 8,
   "id": "8a21399e-e43d-4018-b969-3ffb68d27210",
   "metadata": {},
   "outputs": [
    {
     "data": {
      "text/plain": [
       "distance           0\n",
       "consume            0\n",
       "speed              0\n",
       "temp_inside       12\n",
       "temp_outside       0\n",
       "specials         295\n",
       "gas_type           0\n",
       "ac                 0\n",
       "rain               0\n",
       "sun                0\n",
       "refill_liters    375\n",
       "refill_gas       375\n",
       "dtype: int64"
      ]
     },
     "execution_count": 8,
     "metadata": {},
     "output_type": "execute_result"
    }
   ],
   "source": [
    "df.isna().sum()"
   ]
  },
  {
   "cell_type": "markdown",
   "id": "c7266498-89a3-4376-9799-f0d93f6331bf",
   "metadata": {},
   "source": [
    "### Dropping \"refill_gas\", \"refill_liters\" and \"specials\" while they have a lot of missing values"
   ]
  },
  {
   "cell_type": "code",
   "execution_count": 9,
   "id": "020c7881-ff45-467b-9430-2a5addd931db",
   "metadata": {},
   "outputs": [],
   "source": [
    "df = df.drop(['refill_gas', 'refill_liters', 'specials'], axis=1)"
   ]
  },
  {
   "cell_type": "code",
   "execution_count": 10,
   "id": "f6f21a81-353c-464e-b606-2fc0cfd13117",
   "metadata": {},
   "outputs": [
    {
     "data": {
      "text/plain": [
       "distance         0\n",
       "consume          0\n",
       "speed            0\n",
       "temp_inside     12\n",
       "temp_outside     0\n",
       "gas_type         0\n",
       "ac               0\n",
       "rain             0\n",
       "sun              0\n",
       "dtype: int64"
      ]
     },
     "execution_count": 10,
     "metadata": {},
     "output_type": "execute_result"
    }
   ],
   "source": [
    "df.isna().sum()"
   ]
  },
  {
   "cell_type": "markdown",
   "id": "97d8d299-3878-45a8-9724-817330a83c83",
   "metadata": {},
   "source": [
    "### Replacing the null values with the mean"
   ]
  },
  {
   "cell_type": "code",
   "execution_count": 11,
   "id": "d5aa8d8b-9dc4-4015-9a12-a71ee714c333",
   "metadata": {},
   "outputs": [],
   "source": [
    "df.fillna(df.mean(), inplace=True)"
   ]
  },
  {
   "cell_type": "code",
   "execution_count": 12,
   "id": "64f94da5-c962-489c-911e-7063aa144595",
   "metadata": {},
   "outputs": [
    {
     "data": {
      "text/plain": [
       "distance         0\n",
       "consume          0\n",
       "speed            0\n",
       "temp_inside     12\n",
       "temp_outside     0\n",
       "gas_type         0\n",
       "ac               0\n",
       "rain             0\n",
       "sun              0\n",
       "dtype: int64"
      ]
     },
     "execution_count": 12,
     "metadata": {},
     "output_type": "execute_result"
    }
   ],
   "source": [
    "df.isna().sum()"
   ]
  },
  {
   "cell_type": "markdown",
   "id": "78d1b22e-a3c6-4eb8-be4d-c6f0b755a715",
   "metadata": {},
   "source": [
    "### Converting \"consume\", \"distance\" and \"temp_inside\" to numeric values and replacing null values of the numericals columns with the mean."
   ]
  },
  {
   "cell_type": "code",
   "execution_count": 13,
   "id": "322a4411-8d18-4cf0-91e3-af5106114424",
   "metadata": {},
   "outputs": [],
   "source": [
    "df['consume'] = pd.to_numeric(df['consume'], errors='coerce')\n",
    "df['distance'] = pd.to_numeric(df['distance'], errors='coerce')\n",
    "df['temp_inside'] = pd.to_numeric(df['temp_inside'], errors='coerce')\n",
    "\n",
    "numericals=df.select_dtypes(include=np.number)\n",
    "numericals\n",
    "\n",
    "numericals.fillna(numericals.mean(), inplace=True)"
   ]
  },
  {
   "cell_type": "markdown",
   "id": "1affaf6d-f4c4-46e3-809d-49402e69a755",
   "metadata": {},
   "source": [
    "### Checking for the null values after replacing them with the mean."
   ]
  },
  {
   "cell_type": "code",
   "execution_count": 14,
   "id": "76790966-854c-4c14-81e2-a1a92f7fcb71",
   "metadata": {},
   "outputs": [
    {
     "data": {
      "text/plain": [
       "distance        0\n",
       "consume         0\n",
       "speed           0\n",
       "temp_inside     0\n",
       "temp_outside    0\n",
       "ac              0\n",
       "rain            0\n",
       "sun             0\n",
       "dtype: int64"
      ]
     },
     "execution_count": 14,
     "metadata": {},
     "output_type": "execute_result"
    }
   ],
   "source": [
    "numericals.isna().sum()"
   ]
  },
  {
   "cell_type": "markdown",
   "id": "115de496-cbb0-4830-a67a-69e5361e7edf",
   "metadata": {},
   "source": [
    "### The columns that are categorical:"
   ]
  },
  {
   "cell_type": "code",
   "execution_count": 15,
   "id": "4b920dfa-e6fa-4cc8-bb70-0b7b4184fdfc",
   "metadata": {},
   "outputs": [
    {
     "data": {
      "text/html": [
       "<div>\n",
       "<style scoped>\n",
       "    .dataframe tbody tr th:only-of-type {\n",
       "        vertical-align: middle;\n",
       "    }\n",
       "\n",
       "    .dataframe tbody tr th {\n",
       "        vertical-align: top;\n",
       "    }\n",
       "\n",
       "    .dataframe thead th {\n",
       "        text-align: right;\n",
       "    }\n",
       "</style>\n",
       "<table border=\"1\" class=\"dataframe\">\n",
       "  <thead>\n",
       "    <tr style=\"text-align: right;\">\n",
       "      <th></th>\n",
       "      <th>gas_type</th>\n",
       "    </tr>\n",
       "  </thead>\n",
       "  <tbody>\n",
       "    <tr>\n",
       "      <th>0</th>\n",
       "      <td>E10</td>\n",
       "    </tr>\n",
       "    <tr>\n",
       "      <th>1</th>\n",
       "      <td>E10</td>\n",
       "    </tr>\n",
       "    <tr>\n",
       "      <th>2</th>\n",
       "      <td>E10</td>\n",
       "    </tr>\n",
       "    <tr>\n",
       "      <th>3</th>\n",
       "      <td>E10</td>\n",
       "    </tr>\n",
       "    <tr>\n",
       "      <th>4</th>\n",
       "      <td>E10</td>\n",
       "    </tr>\n",
       "    <tr>\n",
       "      <th>...</th>\n",
       "      <td>...</td>\n",
       "    </tr>\n",
       "    <tr>\n",
       "      <th>383</th>\n",
       "      <td>SP98</td>\n",
       "    </tr>\n",
       "    <tr>\n",
       "      <th>384</th>\n",
       "      <td>SP98</td>\n",
       "    </tr>\n",
       "    <tr>\n",
       "      <th>385</th>\n",
       "      <td>SP98</td>\n",
       "    </tr>\n",
       "    <tr>\n",
       "      <th>386</th>\n",
       "      <td>SP98</td>\n",
       "    </tr>\n",
       "    <tr>\n",
       "      <th>387</th>\n",
       "      <td>SP98</td>\n",
       "    </tr>\n",
       "  </tbody>\n",
       "</table>\n",
       "<p>388 rows × 1 columns</p>\n",
       "</div>"
      ],
      "text/plain": [
       "    gas_type\n",
       "0        E10\n",
       "1        E10\n",
       "2        E10\n",
       "3        E10\n",
       "4        E10\n",
       "..       ...\n",
       "383     SP98\n",
       "384     SP98\n",
       "385     SP98\n",
       "386     SP98\n",
       "387     SP98\n",
       "\n",
       "[388 rows x 1 columns]"
      ]
     },
     "execution_count": 15,
     "metadata": {},
     "output_type": "execute_result"
    }
   ],
   "source": [
    "categoricals=df.select_dtypes(include=object)\n",
    "categoricals"
   ]
  },
  {
   "cell_type": "code",
   "execution_count": 16,
   "id": "ee1a8191-0b5b-4fac-9081-affe632a06b9",
   "metadata": {},
   "outputs": [
    {
     "data": {
      "text/html": [
       "<div>\n",
       "<style scoped>\n",
       "    .dataframe tbody tr th:only-of-type {\n",
       "        vertical-align: middle;\n",
       "    }\n",
       "\n",
       "    .dataframe tbody tr th {\n",
       "        vertical-align: top;\n",
       "    }\n",
       "\n",
       "    .dataframe thead th {\n",
       "        text-align: right;\n",
       "    }\n",
       "</style>\n",
       "<table border=\"1\" class=\"dataframe\">\n",
       "  <thead>\n",
       "    <tr style=\"text-align: right;\">\n",
       "      <th></th>\n",
       "      <th>distance</th>\n",
       "      <th>consume</th>\n",
       "      <th>speed</th>\n",
       "      <th>temp_inside</th>\n",
       "      <th>temp_outside</th>\n",
       "      <th>ac</th>\n",
       "      <th>rain</th>\n",
       "      <th>sun</th>\n",
       "    </tr>\n",
       "  </thead>\n",
       "  <tbody>\n",
       "    <tr>\n",
       "      <th>count</th>\n",
       "      <td>52.000000</td>\n",
       "      <td>49.000000</td>\n",
       "      <td>388.000000</td>\n",
       "      <td>169.000000</td>\n",
       "      <td>388.000000</td>\n",
       "      <td>388.000000</td>\n",
       "      <td>388.000000</td>\n",
       "      <td>388.000000</td>\n",
       "    </tr>\n",
       "    <tr>\n",
       "      <th>mean</th>\n",
       "      <td>19.596154</td>\n",
       "      <td>4.816327</td>\n",
       "      <td>41.927835</td>\n",
       "      <td>21.934911</td>\n",
       "      <td>11.358247</td>\n",
       "      <td>0.077320</td>\n",
       "      <td>0.123711</td>\n",
       "      <td>0.082474</td>\n",
       "    </tr>\n",
       "    <tr>\n",
       "      <th>std</th>\n",
       "      <td>27.855552</td>\n",
       "      <td>0.858134</td>\n",
       "      <td>13.598524</td>\n",
       "      <td>1.230283</td>\n",
       "      <td>6.991542</td>\n",
       "      <td>0.267443</td>\n",
       "      <td>0.329677</td>\n",
       "      <td>0.275441</td>\n",
       "    </tr>\n",
       "    <tr>\n",
       "      <th>min</th>\n",
       "      <td>2.000000</td>\n",
       "      <td>4.000000</td>\n",
       "      <td>14.000000</td>\n",
       "      <td>19.000000</td>\n",
       "      <td>-5.000000</td>\n",
       "      <td>0.000000</td>\n",
       "      <td>0.000000</td>\n",
       "      <td>0.000000</td>\n",
       "    </tr>\n",
       "    <tr>\n",
       "      <th>25%</th>\n",
       "      <td>14.000000</td>\n",
       "      <td>4.000000</td>\n",
       "      <td>32.750000</td>\n",
       "      <td>22.000000</td>\n",
       "      <td>7.000000</td>\n",
       "      <td>0.000000</td>\n",
       "      <td>0.000000</td>\n",
       "      <td>0.000000</td>\n",
       "    </tr>\n",
       "    <tr>\n",
       "      <th>50%</th>\n",
       "      <td>16.000000</td>\n",
       "      <td>5.000000</td>\n",
       "      <td>40.500000</td>\n",
       "      <td>22.000000</td>\n",
       "      <td>10.000000</td>\n",
       "      <td>0.000000</td>\n",
       "      <td>0.000000</td>\n",
       "      <td>0.000000</td>\n",
       "    </tr>\n",
       "    <tr>\n",
       "      <th>75%</th>\n",
       "      <td>17.000000</td>\n",
       "      <td>5.000000</td>\n",
       "      <td>50.000000</td>\n",
       "      <td>22.000000</td>\n",
       "      <td>16.000000</td>\n",
       "      <td>0.000000</td>\n",
       "      <td>0.000000</td>\n",
       "      <td>0.000000</td>\n",
       "    </tr>\n",
       "    <tr>\n",
       "      <th>max</th>\n",
       "      <td>211.000000</td>\n",
       "      <td>9.000000</td>\n",
       "      <td>90.000000</td>\n",
       "      <td>25.000000</td>\n",
       "      <td>31.000000</td>\n",
       "      <td>1.000000</td>\n",
       "      <td>1.000000</td>\n",
       "      <td>1.000000</td>\n",
       "    </tr>\n",
       "  </tbody>\n",
       "</table>\n",
       "</div>"
      ],
      "text/plain": [
       "         distance    consume       speed  temp_inside  temp_outside  \\\n",
       "count   52.000000  49.000000  388.000000   169.000000    388.000000   \n",
       "mean    19.596154   4.816327   41.927835    21.934911     11.358247   \n",
       "std     27.855552   0.858134   13.598524     1.230283      6.991542   \n",
       "min      2.000000   4.000000   14.000000    19.000000     -5.000000   \n",
       "25%     14.000000   4.000000   32.750000    22.000000      7.000000   \n",
       "50%     16.000000   5.000000   40.500000    22.000000     10.000000   \n",
       "75%     17.000000   5.000000   50.000000    22.000000     16.000000   \n",
       "max    211.000000   9.000000   90.000000    25.000000     31.000000   \n",
       "\n",
       "               ac        rain         sun  \n",
       "count  388.000000  388.000000  388.000000  \n",
       "mean     0.077320    0.123711    0.082474  \n",
       "std      0.267443    0.329677    0.275441  \n",
       "min      0.000000    0.000000    0.000000  \n",
       "25%      0.000000    0.000000    0.000000  \n",
       "50%      0.000000    0.000000    0.000000  \n",
       "75%      0.000000    0.000000    0.000000  \n",
       "max      1.000000    1.000000    1.000000  "
      ]
     },
     "execution_count": 16,
     "metadata": {},
     "output_type": "execute_result"
    }
   ],
   "source": [
    "df.describe()"
   ]
  },
  {
   "cell_type": "markdown",
   "id": "0542f617-32f7-4f2c-b3d1-278997ad82a6",
   "metadata": {},
   "source": [
    "#### Checking for outliers"
   ]
  },
  {
   "cell_type": "code",
   "execution_count": 17,
   "id": "19fc67ec-0e6f-4336-8fe2-7265a83b7661",
   "metadata": {},
   "outputs": [
    {
     "data": {
      "text/plain": [
       "<Figure size 432x288 with 0 Axes>"
      ]
     },
     "metadata": {},
     "output_type": "display_data"
    },
    {
     "data": {
      "image/png": "[encoded data removed]",
      "text/plain": [
       "<Figure size 576x360 with 2 Axes>"
      ]
     },
     "metadata": {},
     "output_type": "display_data"
    },
    {
     "data": {
      "text/plain": [
       "<Figure size 576x360 with 0 Axes>"
      ]
     },
     "metadata": {},
     "output_type": "display_data"
    },
    {
     "data": {
      "image/png": "[encoded data removed]",
      "text/plain": [
       "<Figure size 576x360 with 2 Axes>"
      ]
     },
     "metadata": {},
     "output_type": "display_data"
    },
    {
     "data": {
      "text/plain": [
       "<Figure size 576x360 with 0 Axes>"
      ]
     },
     "metadata": {},
     "output_type": "display_data"
    },
    {
     "data": {
      "image/png": "[encoded data removed]",
      "text/plain": [
       "<Figure size 576x360 with 2 Axes>"
      ]
     },
     "metadata": {},
     "output_type": "display_data"
    },
    {
     "data": {
      "text/plain": [
       "<Figure size 576x360 with 0 Axes>"
      ]
     },
     "metadata": {},
     "output_type": "display_data"
    },
    {
     "data": {
      "image/png": "[encoded data removed]",
      "text/plain": [
       "<Figure size 576x360 with 2 Axes>"
      ]
     },
     "metadata": {},
     "output_type": "display_data"
    },
    {
     "data": {
      "text/plain": [
       "<Figure size 576x360 with 0 Axes>"
      ]
     },
     "metadata": {},
     "output_type": "display_data"
    },
    {
     "data": {
      "image/png": "[encoded data removed]",
      "text/plain": [
       "<Figure size 576x360 with 2 Axes>"
      ]
     },
     "metadata": {},
     "output_type": "display_data"
    },
    {
     "data": {
      "text/plain": [
       "<Figure size 576x360 with 0 Axes>"
      ]
     },
     "metadata": {},
     "output_type": "display_data"
    },
    {
     "data": {
      "image/png": "[encoded data removed]",
      "text/plain": [
       "<Figure size 576x360 with 2 Axes>"
      ]
     },
     "metadata": {},
     "output_type": "display_data"
    },
    {
     "data": {
      "text/plain": [
       "<Figure size 576x360 with 0 Axes>"
      ]
     },
     "metadata": {},
     "output_type": "display_data"
    },
    {
     "data": {
      "image/png": "[encoded data removed]",
      "text/plain": [
       "<Figure size 576x360 with 2 Axes>"
      ]
     },
     "metadata": {},
     "output_type": "display_data"
    },
    {
     "data": {
      "text/plain": [
       "<Figure size 576x360 with 0 Axes>"
      ]
     },
     "metadata": {},
     "output_type": "display_data"
    },
    {
     "data": {
      "image/png": "[encoded data removed]",
      "text/plain": [
       "<Figure size 576x360 with 2 Axes>"
      ]
     },
     "metadata": {},
     "output_type": "display_data"
    }
   ],
   "source": [
    "for i in numericals.columns:\n",
    "    plt.figure()\n",
    "    plt.tight_layout()\n",
    "    sns.set(rc={\"figure.figsize\":(8, 5)})\n",
    "    f, (ax_box, ax_hist) = plt.subplots(2, sharex=True)\n",
    "    plt.gca().set(xlabel= i,ylabel='Frequency')\n",
    "    sns.boxplot(numericals[i], ax=ax_box , linewidth= 1.0)\n",
    "    sns.histplot(numericals[i], ax=ax_hist , bins = 10,kde=True)  "
   ]
  },
  {
   "cell_type": "markdown",
   "id": "5457d22a-4f8c-4149-a512-092e65686383",
   "metadata": {},
   "source": [
    "It can be observed that speed, temp_inside and distance have outliers. However, I decided to keep them as so not to lose data."
   ]
  },
  {
   "cell_type": "markdown",
   "id": "f78bcfa5-231a-44fd-bdb4-84e5ea9ea0b3",
   "metadata": {},
   "source": [
    "### Categorical columns:"
   ]
  },
  {
   "cell_type": "code",
   "execution_count": 18,
   "id": "78bbee53-4def-4e37-aca5-d113f5aa5765",
   "metadata": {},
   "outputs": [
    {
     "data": {
      "image/png": "[encoded data removed]",
      "text/plain": [
       "<Figure size 576x360 with 1 Axes>"
      ]
     },
     "metadata": {},
     "output_type": "display_data"
    }
   ],
   "source": [
    "for i, col in enumerate(categoricals.columns):\n",
    "    plt.figure(i)\n",
    "    chart = sns.countplot(x=col, data=categoricals)\n",
    "    chart.set_xticklabels(chart.get_xticklabels(), rotation=90)"
   ]
  },
  {
   "cell_type": "markdown",
   "id": "3dca6f28-fb82-4a0e-841e-5e1b867bf9d5",
   "metadata": {},
   "source": [
    "### Multicollinearity"
   ]
  },
  {
   "cell_type": "code",
   "execution_count": 19,
   "id": "4dff6336-ff61-48a4-9a6e-f2665b8543ec",
   "metadata": {},
   "outputs": [
    {
     "data": {
      "image/png": "[encoded data removed]",
      "text/plain": [
       "<Figure size 864x432 with 2 Axes>"
      ]
     },
     "metadata": {},
     "output_type": "display_data"
    }
   ],
   "source": [
    "corr = df.corr()\n",
    "plt.figure(figsize=(12,6))\n",
    "sns.heatmap(corr, cmap=\"Blues\",annot=True)\n",
    "plt.show()"
   ]
  },
  {
   "cell_type": "markdown",
   "id": "6c31a6ff-0bfc-4107-8e20-c9fdd5e63c87",
   "metadata": {},
   "source": [
    "### Here we see that the highest correlation is between distance and speed, followed by temp_outside-sun, temp_inside-ac.  The lowest correlation is between temp_inside and distance."
   ]
  },
  {
   "cell_type": "markdown",
   "id": "0892dc9f-d557-4ef1-8817-87c368583082",
   "metadata": {},
   "source": [
    "### Pairplots"
   ]
  },
  {
   "cell_type": "code",
   "execution_count": 20,
   "id": "b621614b-7f14-4e57-8c70-074a3f6e6adc",
   "metadata": {},
   "outputs": [
    {
     "data": {
      "text/plain": [
       "<seaborn.axisgrid.PairGrid at 0x28f34181550>"
      ]
     },
     "execution_count": 20,
     "metadata": {},
     "output_type": "execute_result"
    },
    {
     "data": {
      "image/png": "[encoded data removed]",
      "text/plain": [
       "<Figure size 1440x1440 with 72 Axes>"
      ]
     },
     "metadata": {},
     "output_type": "display_data"
    }
   ],
   "source": [
    "sns.pairplot(df)"
   ]
  },
  {
   "cell_type": "code",
   "execution_count": null,
   "id": "41b8acfa-4d93-4bfa-9f0b-9f7f8b14c2c4",
   "metadata": {},
   "outputs": [],
   "source": []
  },
  {
   "cell_type": "markdown",
   "id": "b3af17c1-7904-4ab6-ae46-d4ce1be1c854",
   "metadata": {},
   "source": [
    "### Defining the scalers"
   ]
  },
  {
   "cell_type": "code",
   "execution_count": 21,
   "id": "6848a797-3561-4475-b397-c6621b3712cc",
   "metadata": {},
   "outputs": [],
   "source": [
    "scaler1 = StandardScaler()\n",
    "scaler2 = MinMaxScaler()\n",
    "scaler3 = PolynomialFeatures(degree=2, interaction_only=True) "
   ]
  },
  {
   "cell_type": "code",
   "execution_count": 22,
   "id": "d42599d2-38eb-4fee-b423-056ca1a3d01c",
   "metadata": {},
   "outputs": [
    {
     "data": {
      "text/html": [
       "<div>\n",
       "<style scoped>\n",
       "    .dataframe tbody tr th:only-of-type {\n",
       "        vertical-align: middle;\n",
       "    }\n",
       "\n",
       "    .dataframe tbody tr th {\n",
       "        vertical-align: top;\n",
       "    }\n",
       "\n",
       "    .dataframe thead th {\n",
       "        text-align: right;\n",
       "    }\n",
       "</style>\n",
       "<table border=\"1\" class=\"dataframe\">\n",
       "  <thead>\n",
       "    <tr style=\"text-align: right;\">\n",
       "      <th></th>\n",
       "      <th>distance</th>\n",
       "      <th>consume</th>\n",
       "      <th>speed</th>\n",
       "      <th>temp_inside</th>\n",
       "      <th>temp_outside</th>\n",
       "      <th>ac</th>\n",
       "      <th>rain</th>\n",
       "      <th>sun</th>\n",
       "    </tr>\n",
       "  </thead>\n",
       "  <tbody>\n",
       "    <tr>\n",
       "      <th>0</th>\n",
       "      <td>28.000000</td>\n",
       "      <td>5.000000</td>\n",
       "      <td>26</td>\n",
       "      <td>21.934911</td>\n",
       "      <td>12</td>\n",
       "      <td>0</td>\n",
       "      <td>0</td>\n",
       "      <td>0</td>\n",
       "    </tr>\n",
       "    <tr>\n",
       "      <th>1</th>\n",
       "      <td>12.000000</td>\n",
       "      <td>4.816327</td>\n",
       "      <td>30</td>\n",
       "      <td>21.934911</td>\n",
       "      <td>13</td>\n",
       "      <td>0</td>\n",
       "      <td>0</td>\n",
       "      <td>0</td>\n",
       "    </tr>\n",
       "    <tr>\n",
       "      <th>2</th>\n",
       "      <td>19.596154</td>\n",
       "      <td>4.816327</td>\n",
       "      <td>38</td>\n",
       "      <td>21.934911</td>\n",
       "      <td>15</td>\n",
       "      <td>0</td>\n",
       "      <td>0</td>\n",
       "      <td>0</td>\n",
       "    </tr>\n",
       "    <tr>\n",
       "      <th>3</th>\n",
       "      <td>19.596154</td>\n",
       "      <td>4.816327</td>\n",
       "      <td>36</td>\n",
       "      <td>21.934911</td>\n",
       "      <td>14</td>\n",
       "      <td>0</td>\n",
       "      <td>0</td>\n",
       "      <td>0</td>\n",
       "    </tr>\n",
       "    <tr>\n",
       "      <th>4</th>\n",
       "      <td>19.596154</td>\n",
       "      <td>4.816327</td>\n",
       "      <td>46</td>\n",
       "      <td>21.934911</td>\n",
       "      <td>15</td>\n",
       "      <td>0</td>\n",
       "      <td>0</td>\n",
       "      <td>0</td>\n",
       "    </tr>\n",
       "    <tr>\n",
       "      <th>...</th>\n",
       "      <td>...</td>\n",
       "      <td>...</td>\n",
       "      <td>...</td>\n",
       "      <td>...</td>\n",
       "      <td>...</td>\n",
       "      <td>...</td>\n",
       "      <td>...</td>\n",
       "      <td>...</td>\n",
       "    </tr>\n",
       "    <tr>\n",
       "      <th>383</th>\n",
       "      <td>16.000000</td>\n",
       "      <td>4.816327</td>\n",
       "      <td>39</td>\n",
       "      <td>21.934911</td>\n",
       "      <td>18</td>\n",
       "      <td>0</td>\n",
       "      <td>0</td>\n",
       "      <td>0</td>\n",
       "    </tr>\n",
       "    <tr>\n",
       "      <th>384</th>\n",
       "      <td>19.596154</td>\n",
       "      <td>4.816327</td>\n",
       "      <td>38</td>\n",
       "      <td>25.000000</td>\n",
       "      <td>31</td>\n",
       "      <td>1</td>\n",
       "      <td>0</td>\n",
       "      <td>0</td>\n",
       "    </tr>\n",
       "    <tr>\n",
       "      <th>385</th>\n",
       "      <td>16.000000</td>\n",
       "      <td>4.816327</td>\n",
       "      <td>45</td>\n",
       "      <td>25.000000</td>\n",
       "      <td>19</td>\n",
       "      <td>0</td>\n",
       "      <td>0</td>\n",
       "      <td>0</td>\n",
       "    </tr>\n",
       "    <tr>\n",
       "      <th>386</th>\n",
       "      <td>19.596154</td>\n",
       "      <td>4.816327</td>\n",
       "      <td>42</td>\n",
       "      <td>25.000000</td>\n",
       "      <td>31</td>\n",
       "      <td>1</td>\n",
       "      <td>0</td>\n",
       "      <td>0</td>\n",
       "    </tr>\n",
       "    <tr>\n",
       "      <th>387</th>\n",
       "      <td>19.596154</td>\n",
       "      <td>5.000000</td>\n",
       "      <td>25</td>\n",
       "      <td>25.000000</td>\n",
       "      <td>30</td>\n",
       "      <td>1</td>\n",
       "      <td>0</td>\n",
       "      <td>0</td>\n",
       "    </tr>\n",
       "  </tbody>\n",
       "</table>\n",
       "<p>388 rows × 8 columns</p>\n",
       "</div>"
      ],
      "text/plain": [
       "      distance   consume  speed  temp_inside  temp_outside  ac  rain  sun\n",
       "0    28.000000  5.000000     26    21.934911            12   0     0    0\n",
       "1    12.000000  4.816327     30    21.934911            13   0     0    0\n",
       "2    19.596154  4.816327     38    21.934911            15   0     0    0\n",
       "3    19.596154  4.816327     36    21.934911            14   0     0    0\n",
       "4    19.596154  4.816327     46    21.934911            15   0     0    0\n",
       "..         ...       ...    ...          ...           ...  ..   ...  ...\n",
       "383  16.000000  4.816327     39    21.934911            18   0     0    0\n",
       "384  19.596154  4.816327     38    25.000000            31   1     0    0\n",
       "385  16.000000  4.816327     45    25.000000            19   0     0    0\n",
       "386  19.596154  4.816327     42    25.000000            31   1     0    0\n",
       "387  19.596154  5.000000     25    25.000000            30   1     0    0\n",
       "\n",
       "[388 rows x 8 columns]"
      ]
     },
     "execution_count": 22,
     "metadata": {},
     "output_type": "execute_result"
    }
   ],
   "source": [
    "X = pd.concat([numericals, categoricals], axis = 1)\n",
    "X = X.drop(['gas_type'], axis = 1)\n",
    "y = df['gas_type']\n",
    "X"
   ]
  },
  {
   "cell_type": "markdown",
   "id": "278cb067-dddd-4f6e-b211-2b06337296d6",
   "metadata": {},
   "source": [
    "### Target feature:"
   ]
  },
  {
   "cell_type": "code",
   "execution_count": 23,
   "id": "be9d4522-4852-4b61-90f7-ab1fd23ebca5",
   "metadata": {},
   "outputs": [
    {
     "data": {
      "text/plain": [
       "0       E10\n",
       "1       E10\n",
       "2       E10\n",
       "3       E10\n",
       "4       E10\n",
       "       ... \n",
       "383    SP98\n",
       "384    SP98\n",
       "385    SP98\n",
       "386    SP98\n",
       "387    SP98\n",
       "Name: gas_type, Length: 388, dtype: object"
      ]
     },
     "execution_count": 23,
     "metadata": {},
     "output_type": "execute_result"
    }
   ],
   "source": [
    "y"
   ]
  },
  {
   "cell_type": "markdown",
   "id": "fed98ea5-b3b4-4f05-9e7e-0c6a829e1387",
   "metadata": {},
   "source": [
    "### Split Train and test data set"
   ]
  },
  {
   "cell_type": "code",
   "execution_count": 24,
   "id": "01c16d62-b43d-460c-a923-8e4902f124b2",
   "metadata": {},
   "outputs": [],
   "source": [
    "X_train, X_test, y_train, y_test = train_test_split(X, y, test_size= 0.25, random_state=42)"
   ]
  },
  {
   "cell_type": "markdown",
   "id": "7085a6fa-1025-4818-8268-24c95b20de28",
   "metadata": {},
   "source": [
    "### Logistic Regression"
   ]
  },
  {
   "cell_type": "code",
   "execution_count": 25,
   "id": "46082dde-6764-4626-b3e6-2e4a1e1cbac0",
   "metadata": {},
   "outputs": [],
   "source": [
    "#Fitting and transforming Data\n",
    "X_train = scaler2.fit_transform(X_train)\n",
    "X_test =  scaler2.transform(X_test)"
   ]
  },
  {
   "cell_type": "code",
   "execution_count": 26,
   "id": "92847918-8d92-4ca3-9055-42338658ce83",
   "metadata": {},
   "outputs": [
    {
     "name": "stdout",
     "output_type": "stream",
     "text": [
      "              precision    recall  f1-score   support\n",
      "\n",
      "           0       0.50      0.20      0.29        40\n",
      "           1       0.60      0.86      0.71        57\n",
      "\n",
      "    accuracy                           0.59        97\n",
      "   macro avg       0.55      0.53      0.50        97\n",
      "weighted avg       0.56      0.59      0.54        97\n",
      "\n",
      "Train Score : 0.5910652920962199\n",
      "Test Score : 0.5876288659793815\n"
     ]
    }
   ],
   "source": [
    "logreg = LogisticRegression(random_state=42)\n",
    "\n",
    "logreg.fit(X_train, y_train)\n",
    "\n",
    "y_pred = logreg.predict(X_test)\n",
    "\n",
    "target_names = ['0', '1']\n",
    "print(classification_report(y_test, y_pred, target_names=target_names))\n",
    "\n",
    "print(\"Train Score : {}\".format(logreg.score(X_train, y_train)))\n",
    "print('Test Score : {}'.format(logreg.score(X_test, y_test)))"
   ]
  },
  {
   "cell_type": "markdown",
   "id": "3b657762-5f16-4adb-8948-08327100acd3",
   "metadata": {},
   "source": [
    "### Example of Grid searching key hyperparametres for Logistic Regression"
   ]
  },
  {
   "cell_type": "code",
   "execution_count": 27,
   "id": "b558911d-66ff-4d27-a805-3420eb15a7b1",
   "metadata": {},
   "outputs": [
    {
     "name": "stdout",
     "output_type": "stream",
     "text": [
      "Best: 0.587586 using {'C': 0.1, 'penalty': 'l2', 'solver': 'newton-cg'}\n",
      "0.579847 (0.066679) with: {'C': 100, 'penalty': 'l2', 'solver': 'newton-cg'}\n",
      "0.579847 (0.066679) with: {'C': 100, 'penalty': 'l2', 'solver': 'lbfgs'}\n",
      "0.579847 (0.066679) with: {'C': 100, 'penalty': 'l2', 'solver': 'liblinear'}\n",
      "0.582107 (0.073818) with: {'C': 10, 'penalty': 'l2', 'solver': 'newton-cg'}\n",
      "0.582107 (0.073818) with: {'C': 10, 'penalty': 'l2', 'solver': 'lbfgs'}\n",
      "0.582107 (0.073818) with: {'C': 10, 'penalty': 'l2', 'solver': 'liblinear'}\n",
      "0.579579 (0.066253) with: {'C': 1.0, 'penalty': 'l2', 'solver': 'newton-cg'}\n",
      "0.579579 (0.066253) with: {'C': 1.0, 'penalty': 'l2', 'solver': 'lbfgs'}\n",
      "0.576130 (0.067892) with: {'C': 1.0, 'penalty': 'l2', 'solver': 'liblinear'}\n",
      "0.587586 (0.004138) with: {'C': 0.1, 'penalty': 'l2', 'solver': 'newton-cg'}\n",
      "0.587586 (0.004138) with: {'C': 0.1, 'penalty': 'l2', 'solver': 'lbfgs'}\n",
      "0.587586 (0.004138) with: {'C': 0.1, 'penalty': 'l2', 'solver': 'liblinear'}\n",
      "0.587586 (0.004138) with: {'C': 0.01, 'penalty': 'l2', 'solver': 'newton-cg'}\n",
      "0.587586 (0.004138) with: {'C': 0.01, 'penalty': 'l2', 'solver': 'lbfgs'}\n",
      "0.587586 (0.004138) with: {'C': 0.01, 'penalty': 'l2', 'solver': 'liblinear'}\n"
     ]
    }
   ],
   "source": [
    "from sklearn.datasets import make_blobs\n",
    "from sklearn.model_selection import RepeatedStratifiedKFold\n",
    "from sklearn.model_selection import GridSearchCV\n",
    "from sklearn.linear_model import LogisticRegression\n",
    "# Define Dataset\n",
    "X, y = make_blobs(n_samples=1000, centers=2, n_features=100, cluster_std=20)\n",
    "# Define Models and Parameters\n",
    "model = LogisticRegression()\n",
    "solvers = ['newton-cg', 'lbfgs', 'liblinear']\n",
    "penalty = ['l2']\n",
    "c_values = [100, 10, 1.0, 0.1, 0.01]\n",
    "# Define Grid Search\n",
    "grid = dict(solver=solvers,penalty=penalty,C=c_values)\n",
    "cv = RepeatedStratifiedKFold(n_splits=10, n_repeats=3, random_state=1)\n",
    "grid_search = GridSearchCV(estimator=logreg, param_grid=grid, n_jobs=-1, cv=cv, scoring='accuracy',error_score=0)\n",
    "grid_result = grid_search.fit(X_train, y_train)\n",
    "# Summarize Results\n",
    "print(\"Best: %f using %s\" % (grid_result.best_score_, grid_result.best_params_))\n",
    "means = grid_result.cv_results_['mean_test_score']\n",
    "stds = grid_result.cv_results_['std_test_score']\n",
    "params = grid_result.cv_results_['params']\n",
    "for mean, stdev, param in zip(means, stds, params):\n",
    "    print(\"%f (%f) with: %r\" % (mean, stdev, param))"
   ]
  },
  {
   "cell_type": "code",
   "execution_count": 28,
   "id": "5832db64-3fab-4fcc-bcdb-1d12d7053f86",
   "metadata": {},
   "outputs": [],
   "source": [
    "#Fitting and transforming Data\n",
    "X_train = scaler1.fit_transform(X_train)\n",
    "X_test =  scaler1.transform(X_test)"
   ]
  },
  {
   "cell_type": "code",
   "execution_count": 59,
   "id": "0bdaad14-b313-4c40-9176-9d122b554432",
   "metadata": {},
   "outputs": [],
   "source": [
    "logreg = LogisticRegression( random_state=42, C=0.1 , penalty='l2', solver= 'newton-cg')"
   ]
  },
  {
   "cell_type": "code",
   "execution_count": 60,
   "id": "9711faeb-87c5-4964-bfd1-a53a7bee927e",
   "metadata": {},
   "outputs": [
    {
     "data": {
      "text/plain": [
       "LogisticRegression(C=0.1, random_state=42, solver='newton-cg')"
      ]
     },
     "execution_count": 60,
     "metadata": {},
     "output_type": "execute_result"
    }
   ],
   "source": [
    "# Fit the Model with Data\n",
    "logreg.fit(X_train, y_train)"
   ]
  },
  {
   "cell_type": "code",
   "execution_count": 61,
   "id": "d3eb5bfc-61b8-4fc6-a0d7-fda3d277edd1",
   "metadata": {},
   "outputs": [],
   "source": [
    "# Predictions\n",
    "y_pred = logreg.predict(X_test)"
   ]
  },
  {
   "cell_type": "code",
   "execution_count": 62,
   "id": "c815e7f4-5481-400a-b6c8-ced04f1e2d2e",
   "metadata": {},
   "outputs": [
    {
     "data": {
      "text/plain": [
       "array(['SP98', 'SP98', 'E10', 'E10', 'SP98', 'SP98', 'SP98', 'E10',\n",
       "       'SP98', 'SP98', 'SP98', 'SP98', 'SP98', 'E10', 'SP98', 'E10',\n",
       "       'SP98', 'SP98', 'SP98', 'E10', 'SP98', 'SP98', 'E10', 'SP98',\n",
       "       'E10', 'E10', 'SP98', 'SP98', 'E10', 'E10', 'SP98', 'SP98', 'SP98',\n",
       "       'SP98', 'E10', 'E10', 'E10', 'SP98', 'SP98', 'E10', 'SP98', 'E10',\n",
       "       'SP98', 'SP98', 'E10', 'SP98', 'SP98', 'E10', 'SP98', 'E10',\n",
       "       'SP98', 'SP98', 'E10', 'SP98', 'E10', 'SP98', 'SP98', 'SP98',\n",
       "       'SP98', 'SP98', 'SP98', 'SP98', 'SP98', 'SP98', 'SP98', 'SP98',\n",
       "       'SP98', 'SP98', 'E10', 'E10', 'SP98', 'E10', 'SP98', 'SP98', 'E10',\n",
       "       'SP98', 'E10', 'SP98'], dtype=object)"
      ]
     },
     "execution_count": 62,
     "metadata": {},
     "output_type": "execute_result"
    }
   ],
   "source": [
    "y_pred"
   ]
  },
  {
   "cell_type": "code",
   "execution_count": 63,
   "id": "affcdc10-95d3-424a-94c1-03fba61bc984",
   "metadata": {},
   "outputs": [
    {
     "name": "stdout",
     "output_type": "stream",
     "text": [
      "              precision    recall  f1-score   support\n",
      "\n",
      "           0       0.50      0.36      0.42        36\n",
      "           1       0.56      0.69      0.62        42\n",
      "\n",
      "    accuracy                           0.54        78\n",
      "   macro avg       0.53      0.53      0.52        78\n",
      "weighted avg       0.53      0.54      0.53        78\n",
      "\n"
     ]
    }
   ],
   "source": [
    "target_names = ['0', '1']\n",
    "print(classification_report(y_test, y_pred, target_names=target_names))"
   ]
  },
  {
   "cell_type": "markdown",
   "id": "c975bfa1-4991-4aba-afa4-a413f757ba65",
   "metadata": {},
   "source": [
    "As we can see from the result the hyperparameter tunning its not helping "
   ]
  },
  {
   "cell_type": "code",
   "execution_count": 64,
   "id": "2d18e124-65d0-4ce5-8990-9ca35487d5c7",
   "metadata": {},
   "outputs": [
    {
     "name": "stdout",
     "output_type": "stream",
     "text": [
      "Train Score : 0.7774193548387097\n",
      "Test Score : 0.5384615384615384\n"
     ]
    }
   ],
   "source": [
    "print(\"Train Score : {}\".format(logreg.score(X_train, y_train)))\n",
    "print('Test Score : {}'.format(logreg.score(X_test, y_test)))"
   ]
  },
  {
   "cell_type": "markdown",
   "id": "53d1ce29-e509-4b97-a274-f5d62952cbf1",
   "metadata": {},
   "source": [
    "### KNeighborsClassifier"
   ]
  },
  {
   "cell_type": "code",
   "execution_count": 35,
   "id": "c8331c42-ff87-4447-b4f5-d642294e013a",
   "metadata": {},
   "outputs": [],
   "source": [
    "X = pd.concat([numericals, categoricals], axis = 1)\n",
    "X = X.drop(['gas_type'], axis = 1)\n",
    "y = df['gas_type']"
   ]
  },
  {
   "cell_type": "code",
   "execution_count": 36,
   "id": "44a1a745-4aa2-492f-9c07-65cc7f38b93b",
   "metadata": {},
   "outputs": [],
   "source": [
    "X_train, X_test, y_train, y_test = train_test_split(X, y, test_size= 0.20, random_state=42)"
   ]
  },
  {
   "cell_type": "code",
   "execution_count": 71,
   "id": "789de938-2be4-4862-96cb-2558f4d33e7f",
   "metadata": {},
   "outputs": [],
   "source": [
    "#Fitting and transforming Data\n",
    "X_train = scaler1.fit_transform(X_train)\n",
    "X_test =  scaler1.transform(X_test)"
   ]
  },
  {
   "cell_type": "code",
   "execution_count": 72,
   "id": "c3cc6d19-9570-493a-a7c3-e6ef11e5fd1e",
   "metadata": {},
   "outputs": [
    {
     "data": {
      "text/plain": [
       "KNeighborsClassifier(n_neighbors=4)"
      ]
     },
     "execution_count": 72,
     "metadata": {},
     "output_type": "execute_result"
    }
   ],
   "source": [
    "# Instance of the model with n_neighbors=4\n",
    "from sklearn.neighbors import KNeighborsClassifier\n",
    "classifier= KNeighborsClassifier(n_neighbors=4)  \n",
    "classifier.fit(X_train,y_train)"
   ]
  },
  {
   "cell_type": "code",
   "execution_count": 73,
   "id": "c082ec67-5f88-48db-b609-46643c69ef52",
   "metadata": {},
   "outputs": [
    {
     "name": "stdout",
     "output_type": "stream",
     "text": [
      "Train Score : 0.7419354838709677\n",
      "Test Score : 0.5384615384615384\n"
     ]
    }
   ],
   "source": [
    "print(\"Train Score : {}\".format(classifier.score(X_train, y_train)))\n",
    "print('Test Score : {}'.format(classifier.score(X_test, y_test)))"
   ]
  },
  {
   "cell_type": "code",
   "execution_count": 74,
   "id": "0a265f40-9401-4be8-9ad5-67ce8f320afb",
   "metadata": {},
   "outputs": [],
   "source": [
    "baseline_classification = LogisticRegression(max_iter=1000) \n",
    "classifier = KNeighborsClassifier(n_neighbors=25) "
   ]
  },
  {
   "cell_type": "code",
   "execution_count": 75,
   "id": "a6ffa3c3-2faf-4a89-ba41-ea67ed39d04b",
   "metadata": {},
   "outputs": [],
   "source": [
    "def model_application(df, scaler, model, X_train, X_test, y_train, y_test): \n",
    "    X_train = scaler.fit_transform(X_train)\n",
    "    X_test = scaler.transform(X_test)\n",
    "    classifier.fit(X_train,y_train)\n",
    "    print(classification_report(y_test, classifier.predict(X_test)))"
   ]
  },
  {
   "cell_type": "code",
   "execution_count": 76,
   "id": "c538f47d-5afa-490d-a905-83098a1a3400",
   "metadata": {},
   "outputs": [
    {
     "name": "stdout",
     "output_type": "stream",
     "text": [
      "              precision    recall  f1-score   support\n",
      "\n",
      "         E10       0.64      0.39      0.48        36\n",
      "        SP98       0.61      0.81      0.69        42\n",
      "\n",
      "    accuracy                           0.62        78\n",
      "   macro avg       0.62      0.60      0.59        78\n",
      "weighted avg       0.62      0.62      0.60        78\n",
      "\n"
     ]
    }
   ],
   "source": [
    "model_application(df, scaler1, classifier, X_train, X_test, y_train, y_test) "
   ]
  },
  {
   "cell_type": "markdown",
   "id": "e277885d-01ed-4429-ab97-e6a6bba7bfef",
   "metadata": {},
   "source": [
    "### Decision Trees"
   ]
  },
  {
   "cell_type": "code",
   "execution_count": 201,
   "id": "cf16903b-be20-4dab-ad11-d3e55b2d97c1",
   "metadata": {},
   "outputs": [],
   "source": [
    "X = pd.concat([numericals, categoricals], axis = 1)\n",
    "X = X.drop(['gas_type'], axis = 1)\n",
    "y = df['gas_type']"
   ]
  },
  {
   "cell_type": "code",
   "execution_count": 202,
   "id": "84a1c1a5-0f5a-4919-972f-732eb1869ce7",
   "metadata": {},
   "outputs": [],
   "source": [
    "X_train, X_test, y_train, y_test = train_test_split(X, y, test_size= 0.2, random_state=42)"
   ]
  },
  {
   "cell_type": "code",
   "execution_count": 224,
   "id": "42ea6524-9d43-4631-893e-39816ac2a189",
   "metadata": {},
   "outputs": [],
   "source": [
    "X_train = scaler1.fit_transform(X_train)\n",
    "X_test = scaler1.transform(X_test)"
   ]
  },
  {
   "cell_type": "code",
   "execution_count": 225,
   "id": "923f5689-a764-43fe-b214-de278d017257",
   "metadata": {},
   "outputs": [
    {
     "data": {
      "text/plain": [
       "DecisionTreeClassifier(min_samples_leaf=100)"
      ]
     },
     "execution_count": 225,
     "metadata": {},
     "output_type": "execute_result"
    }
   ],
   "source": [
    "# min_samples_leaf=50 allows to have more elements in the leaves, so less nodes and the tree is shallower.\n",
    "classifier = DecisionTreeClassifier(min_samples_leaf=100)\n",
    "classifier.fit(X_train, y_train)"
   ]
  },
  {
   "cell_type": "code",
   "execution_count": 226,
   "id": "ecada710-31dd-4f64-866e-6b619999ee91",
   "metadata": {},
   "outputs": [
    {
     "data": {
      "text/plain": [
       "2"
      ]
     },
     "execution_count": 226,
     "metadata": {},
     "output_type": "execute_result"
    }
   ],
   "source": [
    "classifier.get_depth()"
   ]
  },
  {
   "cell_type": "code",
   "execution_count": 227,
   "id": "ad6bc686-6b05-489a-aca1-54ce5c054759",
   "metadata": {},
   "outputs": [],
   "source": [
    "y_pred = classifier.predict(X_test)"
   ]
  },
  {
   "cell_type": "code",
   "execution_count": 228,
   "id": "d6624f3c-90fa-4b24-8b3a-15f932bf023e",
   "metadata": {},
   "outputs": [
    {
     "name": "stdout",
     "output_type": "stream",
     "text": [
      "Accuracy on the training set: 63%\n"
     ]
    }
   ],
   "source": [
    "accuracy_train = classifier.score(X_train, y_train)\n",
    "print(f\"Accuracy on the training set: {accuracy_train:.0%}\")"
   ]
  },
  {
   "cell_type": "code",
   "execution_count": 229,
   "id": "c194b0c0-033b-4039-ad12-54f970b3e600",
   "metadata": {},
   "outputs": [
    {
     "name": "stdout",
     "output_type": "stream",
     "text": [
      "Accuracy on the test set: 65%\n"
     ]
    }
   ],
   "source": [
    "accuracy_test = classifier.score(X_test, y_test)\n",
    "print(f\"Accuracy on the test set: {accuracy_test:.0%}\")"
   ]
  },
  {
   "cell_type": "code",
   "execution_count": 230,
   "id": "e5734981-d398-4d1a-9dd7-79c28d331c80",
   "metadata": {},
   "outputs": [
    {
     "name": "stdout",
     "output_type": "stream",
     "text": [
      "              precision    recall  f1-score   support\n",
      "\n",
      "         E10       0.67      0.50      0.57        36\n",
      "        SP98       0.65      0.79      0.71        42\n",
      "\n",
      "    accuracy                           0.65        78\n",
      "   macro avg       0.66      0.64      0.64        78\n",
      "weighted avg       0.66      0.65      0.65        78\n",
      "\n"
     ]
    }
   ],
   "source": [
    "print(classification_report(y_test, y_pred))"
   ]
  },
  {
   "cell_type": "markdown",
   "id": "6c8fff75-5abd-4ee7-9800-fb2f81dc4745",
   "metadata": {},
   "source": [
    "### Random Forest"
   ]
  },
  {
   "cell_type": "code",
   "execution_count": 52,
   "id": "fd2421b7-9016-4208-8cf9-42116159a1cf",
   "metadata": {},
   "outputs": [],
   "source": [
    "# import library\n",
    "from imblearn.over_sampling import RandomOverSampler\n",
    "\n",
    "rus = RandomOverSampler(random_state=42)# fit predictor and target variable\n"
   ]
  },
  {
   "cell_type": "code",
   "execution_count": 53,
   "id": "ecd0107e-73fd-4925-b249-91b42890be4e",
   "metadata": {},
   "outputs": [],
   "source": [
    "X = pd.concat([numericals, categoricals], axis = 1)\n",
    "X \n",
    "X = X.drop(['gas_type'], axis = 1)\n",
    "df\n",
    "y = df['gas_type']\n"
   ]
  },
  {
   "cell_type": "code",
   "execution_count": 96,
   "id": "19e374be-5d64-43fe-90be-c48f5600f8f4",
   "metadata": {},
   "outputs": [],
   "source": [
    "X_train = scaler1.fit_transform(X_train)\n",
    "X_test = scaler1.transform(X_test)"
   ]
  },
  {
   "cell_type": "code",
   "execution_count": 97,
   "id": "5a8dfe2b-b0d0-42e2-96a7-ec031a3cd9e8",
   "metadata": {},
   "outputs": [
    {
     "name": "stdout",
     "output_type": "stream",
     "text": [
      "Number of rows X_train = 310\n",
      "Number of rows X_test = 78\n",
      "Number of rows y_train = 310\n",
      "Number of rows y_test = 78\n",
      "Percentage of train values = 79.9 %\n"
     ]
    }
   ],
   "source": [
    "X_train_rf, X_test_rf, y_train_rf, y_test_rf = train_test_split(X, y, test_size=0.2, random_state=42)\n",
    "print(\"Number of rows X_train = {}\".format(len(X_train_rf)))\n",
    "print(\"Number of rows X_test = {}\".format(len(X_test_rf)))\n",
    "print(\"Number of rows y_train = {}\".format(len(y_train_rf)))\n",
    "print(\"Number of rows y_test = {}\".format(len(y_test_rf)))\n",
    "print(\"Percentage of train values = {}\".format(round(len(X_train_rf)/len(X), 4) * 100),\"%\")"
   ]
  },
  {
   "cell_type": "code",
   "execution_count": 98,
   "id": "3d47de72-491a-428a-baba-f9d28a730287",
   "metadata": {},
   "outputs": [
    {
     "name": "stdout",
     "output_type": "stream",
     "text": [
      "Train Score : 0.7967741935483871\n",
      "Test Score : 0.6538461538461539\n"
     ]
    }
   ],
   "source": [
    "classifier = RandomForestClassifier(n_estimators = 150, min_samples_split=30)\n",
    "classifier.fit(X_train_rf, y_train_rf)\n",
    "\n",
    "print(\"Train Score : {}\".format(classifier.score(X_train_rf, y_train_rf)))\n",
    "print('Test Score : {}'.format(classifier.score(X_test_rf, y_test_rf)))"
   ]
  },
  {
   "cell_type": "code",
   "execution_count": 99,
   "id": "a587eddb-c07a-4293-a2c8-f674ec43e90f",
   "metadata": {},
   "outputs": [
    {
     "name": "stdout",
     "output_type": "stream",
     "text": [
      "              precision    recall  f1-score   support\n",
      "\n",
      "         E10       0.63      0.53      0.58        36\n",
      "        SP98       0.65      0.74      0.69        42\n",
      "\n",
      "    accuracy                           0.64        78\n",
      "   macro avg       0.64      0.63      0.63        78\n",
      "weighted avg       0.64      0.64      0.64        78\n",
      "\n"
     ]
    }
   ],
   "source": [
    "classifier = RandomForestClassifier(n_estimators = 150, min_samples_split=30)\n",
    "classifier.fit(X_train_rf, y_train_rf)\n",
    "\n",
    "pred_train_rf = classifier.predict(X_train_rf)\n",
    "pred_test_rf = classifier.predict(X_test_rf)\n",
    "\n",
    "print(classification_report(y_test_rf, pred_test_rf))"
   ]
  },
  {
   "cell_type": "markdown",
   "id": "8736ab26-a730-43b6-891f-b04dfb06afa7",
   "metadata": {},
   "source": [
    "The best model turned out to be Decision Trees with 67 and 65% accuracy. We are focusing on precision as we do not want to mistake the gas type in any case. "
   ]
  },
  {
   "cell_type": "markdown",
   "id": "b9f83e3e-63eb-4cb4-87b2-4dd7cbe4cf11",
   "metadata": {},
   "source": [
    "### CHI-Square test"
   ]
  },
  {
   "cell_type": "markdown",
   "id": "584ab07f-3742-42ba-a3cd-653e86ea46ee",
   "metadata": {},
   "source": [
    "#### We want to find out if speed is related to consumption. We define our NULL hypothesis as: higher speed leads to higher consumption. "
   ]
  },
  {
   "cell_type": "code",
   "execution_count": 58,
   "id": "0470468a-a7f7-402c-a240-b3da071f0e4a",
   "metadata": {},
   "outputs": [
    {
     "name": "stdout",
     "output_type": "stream",
     "text": [
      "Fail to reject the null hypothesis: higher speed values lead to higher consume values.\n"
     ]
    }
   ],
   "source": [
    "from scipy.stats import chi2_contingency\n",
    "\n",
    "contingency_table = pd.crosstab(df[\"consume\"], df[\"speed\"])\n",
    "\n",
    "# perform the chi-square test on the contingency table\n",
    "chi2, p, dof, expected = chi2_contingency(contingency_table)\n",
    "\n",
    "# interpret the p-value\n",
    "alpha = 0.05\n",
    "if p < alpha:\n",
    "    print(\"Reject the null hypothesis: higher speed values do not lead to higher consume values.\")\n",
    "else:\n",
    "    print(\"Fail to reject the null hypothesis: higher speed values lead to higher consume values.\")"
   ]
  }
 ],
 "metadata": {
  "kernelspec": {
   "display_name": "Python 3 (ipykernel)",
   "language": "python",
   "name": "python3"
  },
  "language_info": {
   "codemirror_mode": {
    "name": "ipython",
    "version": 3
   },
   "file_extension": ".py",
   "mimetype": "text/x-python",
   "name": "python",
   "nbconvert_exporter": "python",
   "pygments_lexer": "ipython3",
   "version": "3.9.12"
  }
 },
 "nbformat": 4,
 "nbformat_minor": 5
}
